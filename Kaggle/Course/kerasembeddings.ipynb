{
 "cells": [
  {
   "cell_type": "markdown",
   "metadata": {
    "papermill": {
     "duration": 0.016079,
     "end_time": "2021-03-08T02:11:54.229262",
     "exception": false,
     "start_time": "2021-03-08T02:11:54.213183",
     "status": "completed"
    },
    "tags": []
   },
   "source": [
    "This **Code** is mainly based on [https://www.kaggle.com/abhishek/same-old-entity-embeddings](https://www.kaggle.com/abhishek/same-old-entity-embeddings) and the submission from [https://www.kaggle.com/craigmthomas/tps-mar-2021-stacked-starter](https://www.kaggle.com/craigmthomas/tps-mar-2021-stacked-starter) was used for blend,"
   ]
  },
  {
   "cell_type": "code",
   "execution_count": 1,
   "metadata": {
    "_cell_guid": "b1076dfc-b9ad-4769-8c92-a6c4dae69d19",
    "_uuid": "8f2839f25d086af736a60e9eeb907d3b93b6e0e5",
    "execution": {
     "iopub.execute_input": "2021-03-08T02:11:54.265450Z",
     "iopub.status.busy": "2021-03-08T02:11:54.264639Z",
     "iopub.status.idle": "2021-03-08T02:12:01.643588Z",
     "shell.execute_reply": "2021-03-08T02:12:01.642829Z"
    },
    "papermill": {
     "duration": 7.400381,
     "end_time": "2021-03-08T02:12:01.643817",
     "exception": false,
     "start_time": "2021-03-08T02:11:54.243436",
     "status": "completed"
    },
    "tags": []
   },
   "outputs": [],
   "source": [
    "from tensorflow.keras import layers, optimizers, callbacks, utils, losses, metrics, backend as K\n",
    "from sklearn import metrics as skmetrics, preprocessing\n",
    "from tensorflow.keras.models import Model, load_model\n",
    "from sklearn.model_selection import StratifiedKFold\n",
    "from scipy.stats import rankdata\n",
    "import os, gc, joblib, warnings\n",
    "import tensorflow_addons as tfa\n",
    "import tensorflow as tf\n",
    "import pandas as pd\n",
    "import numpy as np\n",
    "\n",
    "warnings.filterwarnings('ignore')"
   ]
  },
  {
   "cell_type": "code",
   "execution_count": 2,
   "metadata": {
    "execution": {
     "iopub.execute_input": "2021-03-08T02:12:01.681719Z",
     "iopub.status.busy": "2021-03-08T02:12:01.680791Z",
     "iopub.status.idle": "2021-03-08T02:12:01.683525Z",
     "shell.execute_reply": "2021-03-08T02:12:01.684032Z"
    },
    "papermill": {
     "duration": 0.026666,
     "end_time": "2021-03-08T02:12:01.684195",
     "exception": false,
     "start_time": "2021-03-08T02:12:01.657529",
     "status": "completed"
    },
    "tags": []
   },
   "outputs": [],
   "source": [
    "def create_model(data, catcols):    \n",
    "    inputs = []\n",
    "    outputs = []\n",
    "    for c in catcols:\n",
    "        num_unique_values = int(data[c].nunique())\n",
    "        embed_dim = int(min(np.ceil((num_unique_values)/2), 20))\n",
    "        inp = layers.Input(shape=(1,))\n",
    "        out = layers.Embedding(num_unique_values + 1, embed_dim, name=c)(inp)\n",
    "        out = layers.SpatialDropout1D(0.25)(out)\n",
    "        out = layers.Reshape(target_shape=(embed_dim, ))(out)\n",
    "        inputs.append(inp)\n",
    "        outputs.append(out)\n",
    "    \n",
    "    x = layers.Concatenate()(outputs)\n",
    "    x = layers.BatchNormalization()(x)\n",
    "    \n",
    "    x = layers.Dense(300, activation='relu')(x)\n",
    "    x = layers.Dropout(0.3)(x)\n",
    "    x = layers.BatchNormalization()(x)\n",
    "    \n",
    "    x = layers.Dense(300, activation='relu')(x)\n",
    "    x = layers.Dropout(0.3)(x)\n",
    "    x = layers.BatchNormalization()(x)\n",
    "    \n",
    "    y = layers.Dense(1, activation='sigmoid')(x)\n",
    "\n",
    "    model = Model(inputs=inputs, outputs=y)\n",
    "    return model"
   ]
  },
  {
   "cell_type": "code",
   "execution_count": 3,
   "metadata": {
    "execution": {
     "iopub.execute_input": "2021-03-08T02:12:01.717190Z",
     "iopub.status.busy": "2021-03-08T02:12:01.716443Z",
     "iopub.status.idle": "2021-03-08T02:12:05.521366Z",
     "shell.execute_reply": "2021-03-08T02:12:05.519920Z"
    },
    "papermill": {
     "duration": 3.823831,
     "end_time": "2021-03-08T02:12:05.521545",
     "exception": false,
     "start_time": "2021-03-08T02:12:01.697714",
     "status": "completed"
    },
    "tags": []
   },
   "outputs": [],
   "source": [
    "train = pd.read_csv('../input/tabular-playground-series-mar-2021/train.csv')\n",
    "test = pd.read_csv('../input/tabular-playground-series-mar-2021/test.csv')\n"
   ]
  },
  {
   "cell_type": "code",
   "execution_count": 4,
   "metadata": {
    "execution": {
     "iopub.execute_input": "2021-03-08T02:12:05.564631Z",
     "iopub.status.busy": "2021-03-08T02:12:05.558072Z",
     "iopub.status.idle": "2021-03-08T02:12:05.713087Z",
     "shell.execute_reply": "2021-03-08T02:12:05.712456Z"
    },
    "papermill": {
     "duration": 0.177709,
     "end_time": "2021-03-08T02:12:05.713253",
     "exception": false,
     "start_time": "2021-03-08T02:12:05.535544",
     "status": "completed"
    },
    "tags": []
   },
   "outputs": [],
   "source": [
    "test_id = test.id.values\n",
    "train = train.drop(['id'], axis=1)\n",
    "test = test.drop(['id'], axis=1)"
   ]
  },
  {
   "cell_type": "code",
   "execution_count": 5,
   "metadata": {
    "execution": {
     "iopub.execute_input": "2021-03-08T02:12:05.773393Z",
     "iopub.status.busy": "2021-03-08T02:12:05.772477Z",
     "iopub.status.idle": "2021-03-08T02:12:10.759715Z",
     "shell.execute_reply": "2021-03-08T02:12:10.758497Z"
    },
    "papermill": {
     "duration": 5.03264,
     "end_time": "2021-03-08T02:12:10.759885",
     "exception": false,
     "start_time": "2021-03-08T02:12:05.727245",
     "status": "completed"
    },
    "tags": []
   },
   "outputs": [],
   "source": [
    "sparse_features = [f for f in train.columns if 'cat' in f]\n",
    "dense_features = [feat for feat in train.columns if  feat not in sparse_features+['target']]\n",
    "\n",
    "for col in sparse_features:\n",
    "    train_only = list(set(train[col].unique()) - set(test[col].unique()))\n",
    "    test_only = list(set(test[col].unique()) - set(train[col].unique()))\n",
    "    both = list(set(test[col].unique()).union(set(train[col].unique())))\n",
    "    train.loc[train[col].isin(train_only), col] = np.nan\n",
    "    test.loc[test[col].isin(test_only), col] = np.nan\n",
    "    mode = train[col].mode().values[0]\n",
    "    train[col] = train[col].fillna(mode)\n",
    "    test[col] = test[col].fillna(mode)\n",
    "    "
   ]
  },
  {
   "cell_type": "code",
   "execution_count": 6,
   "metadata": {
    "execution": {
     "iopub.execute_input": "2021-03-08T02:12:10.792796Z",
     "iopub.status.busy": "2021-03-08T02:12:10.791568Z",
     "iopub.status.idle": "2021-03-08T02:12:10.850094Z",
     "shell.execute_reply": "2021-03-08T02:12:10.849107Z"
    },
    "papermill": {
     "duration": 0.076663,
     "end_time": "2021-03-08T02:12:10.850249",
     "exception": false,
     "start_time": "2021-03-08T02:12:10.773586",
     "status": "completed"
    },
    "tags": []
   },
   "outputs": [],
   "source": [
    "for feat in dense_features:\n",
    "    test[feat] = np.clip(test[feat], train[feat].min(), train[feat].max())"
   ]
  },
  {
   "cell_type": "code",
   "execution_count": 7,
   "metadata": {
    "execution": {
     "iopub.execute_input": "2021-03-08T02:12:10.886653Z",
     "iopub.status.busy": "2021-03-08T02:12:10.885735Z",
     "iopub.status.idle": "2021-03-08T02:12:18.556475Z",
     "shell.execute_reply": "2021-03-08T02:12:18.557065Z"
    },
    "papermill": {
     "duration": 7.693395,
     "end_time": "2021-03-08T02:12:18.557250",
     "exception": false,
     "start_time": "2021-03-08T02:12:10.863855",
     "status": "completed"
    },
    "tags": []
   },
   "outputs": [],
   "source": [
    "test[\"target\"] = -1\n",
    "data = pd.concat([train, test]).reset_index(drop=True)\n",
    "\n",
    "for c in dense_features:\n",
    "    data[f'q_{c}'], bins_ = pd.qcut(data[c], 25, retbins=True, labels=[i for i in range(25)])\n",
    "    data[f'q_{c}'] = data[f'q_{c}'].astype('str')\n",
    "    sparse_features.append(f'q_{c}')"
   ]
  },
  {
   "cell_type": "code",
   "execution_count": 8,
   "metadata": {
    "execution": {
     "iopub.execute_input": "2021-03-08T02:12:18.688147Z",
     "iopub.status.busy": "2021-03-08T02:12:18.687167Z",
     "iopub.status.idle": "2021-03-08T02:13:13.612709Z",
     "shell.execute_reply": "2021-03-08T02:13:13.611895Z"
    },
    "papermill": {
     "duration": 55.038174,
     "end_time": "2021-03-08T02:13:13.612954",
     "exception": false,
     "start_time": "2021-03-08T02:12:18.574780",
     "status": "completed"
    },
    "tags": []
   },
   "outputs": [],
   "source": [
    "features = sparse_features\n",
    "for feat in features:\n",
    "    lbl_enc = preprocessing.OrdinalEncoder()\n",
    "    data[feat] = lbl_enc.fit_transform(data[feat].fillna('-1').values.reshape(-1,1).astype(str))\n",
    "    \n",
    "train = data[data.target != -1].reset_index(drop=True)\n",
    "test = data[data.target == -1].reset_index(drop=True)\n",
    "test_data = [test.loc[:, features].values[:, k] for k in range(test.loc[:, features].values.shape[1])]"
   ]
  },
  {
   "cell_type": "code",
   "execution_count": 9,
   "metadata": {
    "execution": {
     "iopub.execute_input": "2021-03-08T02:13:13.659538Z",
     "iopub.status.busy": "2021-03-08T02:13:13.658658Z",
     "iopub.status.idle": "2021-03-08T02:13:13.665850Z",
     "shell.execute_reply": "2021-03-08T02:13:13.667317Z"
    },
    "papermill": {
     "duration": 0.033902,
     "end_time": "2021-03-08T02:13:13.667519",
     "exception": false,
     "start_time": "2021-03-08T02:13:13.633617",
     "status": "completed"
    },
    "tags": []
   },
   "outputs": [],
   "source": [
    "oof_preds = np.zeros((len(train)))\n",
    "bagged_oof_preds = np.zeros((len(train)))\n",
    "test_preds = np.zeros((len(test)))\n",
    "bagged_test_preds = np.zeros((len(test)))\n",
    "learning_rate = 1e-3\n",
    "label_smoothing = 0.0\n",
    "Verbose = 0\n",
    "n_splits = [10, 15]\n",
    "n_bags = 2\n",
    "seeds = [2021, 2021]"
   ]
  },
  {
   "cell_type": "code",
   "execution_count": 10,
   "metadata": {
    "execution": {
     "iopub.execute_input": "2021-03-08T02:13:13.718291Z",
     "iopub.status.busy": "2021-03-08T02:13:13.713756Z",
     "iopub.status.idle": "2021-03-08T03:59:07.857370Z",
     "shell.execute_reply": "2021-03-08T03:59:07.858166Z"
    },
    "papermill": {
     "duration": 6354.173795,
     "end_time": "2021-03-08T03:59:07.858414",
     "exception": false,
     "start_time": "2021-03-08T02:13:13.684619",
     "status": "completed"
    },
    "tags": []
   },
   "outputs": [
    {
     "name": "stdout",
     "output_type": "stream",
     "text": [
      "Iteration 1 splits 10 seed 2021\n",
      "fold 1 AUC : 0.8961918170969543\n",
      "fold 2 AUC : 0.8943718985440651\n",
      "fold 3 AUC : 0.8928650772326882\n",
      "fold 4 AUC : 0.8919611653395161\n",
      "fold 5 AUC : 0.8940623021939308\n",
      "fold 6 AUC : 0.8941781197838289\n",
      "fold 7 AUC : 0.8950134547216109\n",
      "fold 8 AUC : 0.8942711573274676\n",
      "fold 9 AUC : 0.8903416792377293\n",
      "fold 10 AUC : 0.8930819030632879\n",
      "Overall AUC of Iteration 1 = 0.8936338522666155\n",
      "Iteration 2 splits 15 seed 2021\n",
      "fold 1 AUC : 0.8949696084929532\n",
      "fold 2 AUC : 0.8966754501061742\n",
      "fold 3 AUC : 0.8939437589461702\n",
      "fold 4 AUC : 0.8912614695776577\n",
      "fold 5 AUC : 0.8951690774548317\n",
      "fold 6 AUC : 0.8903163962934546\n",
      "fold 7 AUC : 0.8923044990067063\n",
      "fold 8 AUC : 0.8948867136350268\n",
      "fold 9 AUC : 0.8969503860022942\n",
      "fold 10 AUC : 0.8945787660007172\n",
      "fold 11 AUC : 0.8991855767627449\n",
      "fold 12 AUC : 0.8917752848473403\n",
      "fold 13 AUC : 0.892725469255858\n",
      "fold 14 AUC : 0.8911767833170773\n",
      "fold 15 AUC : 0.8932440965471888\n",
      "Overall AUC of Iteration 2 = 0.8939442133469299\n"
     ]
    }
   ],
   "source": [
    "for bag in range(n_bags):\n",
    "    print(f'Iteration {bag+1} splits {n_splits[bag]} seed {seeds[bag]}')\n",
    "    for fold, (train_index, test_index) in enumerate(StratifiedKFold(n_splits=n_splits[bag], shuffle=True, random_state=seeds[bag]).split(train, train.target.values)):\n",
    "        X_train, X_test = train.iloc[train_index, :], train.iloc[test_index, :]\n",
    "        X_train = X_train.reset_index(drop=True)\n",
    "        X_test = X_test.reset_index(drop=True)\n",
    "        y_train, y_test = X_train.target.values, X_test.target.values\n",
    "        model = create_model(data, features)\n",
    "        model.compile(\n",
    "            optimizer=tfa.optimizers.SWA(tf.keras.optimizers.Adam(learning_rate=learning_rate)),\n",
    "            loss=losses.BinaryCrossentropy(label_smoothing=label_smoothing),\n",
    "            metrics=metrics.AUC(name=\"AUC\"),\n",
    "        )\n",
    "\n",
    "        X_train = [X_train.loc[:, features].values[:, k] for k in range(X_train.loc[:, features].values.shape[1])]\n",
    "        X_test = [X_test.loc[:, features].values[:, k] for k in range(X_test.loc[:, features].values.shape[1])]\n",
    "    \n",
    "        es = callbacks.EarlyStopping(monitor='val_AUC', min_delta=0.000001, patience=10, verbose=Verbose, mode='max', baseline=None, restore_best_weights=True)\n",
    "        sb = callbacks.ModelCheckpoint('./nn_model.w8', save_weights_only=True, save_best_only=True, verbose=Verbose, monitor='val_AUC',mode='max')\n",
    "        plateau  = callbacks.ReduceLROnPlateau(monitor='val_AUC', factor=0.5, patience=2, verbose=Verbose,\n",
    "                                        mode='max', min_delta=0.0001, cooldown=0, min_lr=1e-7)\n",
    "        model.fit(X_train,\n",
    "                  y_train,\n",
    "                  validation_data=(X_test, y_test),\n",
    "                  verbose=Verbose,\n",
    "                  batch_size=1024,\n",
    "                  callbacks=[es, sb, plateau],\n",
    "                  epochs=100\n",
    "             )\n",
    "        valid_fold_preds = model.predict(X_test)\n",
    "        test_fold_preds = model.predict(test_data)\n",
    "        oof_preds[test_index] = rankdata(valid_fold_preds.ravel())/len(X_test)\n",
    "        test_preds += rankdata(test_fold_preds.ravel() / n_splits[bag])/len(test)\n",
    "        print(f'fold {fold+1} AUC : {skmetrics.roc_auc_score(y_test, valid_fold_preds)}')\n",
    "        K.clear_session()\n",
    "    print(f'Overall AUC of Iteration {bag+1} = {skmetrics.roc_auc_score(train.target.values, oof_preds)}')\n",
    "    np.save(f'oof_preds_{bag}',oof_preds)\n",
    "    np.save(f'test_preds_{bag}',test_preds)\n",
    "    bagged_test_preds += test_preds / n_bags\n",
    "    bagged_oof_preds += oof_preds / n_bags"
   ]
  },
  {
   "cell_type": "code",
   "execution_count": 11,
   "metadata": {
    "execution": {
     "iopub.execute_input": "2021-03-08T03:59:07.912489Z",
     "iopub.status.busy": "2021-03-08T03:59:07.911548Z",
     "iopub.status.idle": "2021-03-08T03:59:08.015890Z",
     "shell.execute_reply": "2021-03-08T03:59:08.015316Z"
    },
    "papermill": {
     "duration": 0.133281,
     "end_time": "2021-03-08T03:59:08.016067",
     "exception": false,
     "start_time": "2021-03-08T03:59:07.882786",
     "status": "completed"
    },
    "tags": []
   },
   "outputs": [
    {
     "name": "stdout",
     "output_type": "stream",
     "text": [
      "Overall AUC=0.8947215641553808\n"
     ]
    }
   ],
   "source": [
    "print(\"Overall AUC={}\".format(skmetrics.roc_auc_score(train.target.values, bagged_oof_preds)))"
   ]
  },
  {
   "cell_type": "code",
   "execution_count": 12,
   "metadata": {
    "execution": {
     "iopub.execute_input": "2021-03-08T03:59:08.071441Z",
     "iopub.status.busy": "2021-03-08T03:59:08.070490Z",
     "iopub.status.idle": "2021-03-08T03:59:08.997761Z",
     "shell.execute_reply": "2021-03-08T03:59:08.998415Z"
    },
    "papermill": {
     "duration": 0.958188,
     "end_time": "2021-03-08T03:59:08.998618",
     "exception": false,
     "start_time": "2021-03-08T03:59:08.040430",
     "status": "completed"
    },
    "tags": []
   },
   "outputs": [
    {
     "name": "stdout",
     "output_type": "stream",
     "text": [
      "Saving submission file\n"
     ]
    },
    {
     "data": {
      "text/html": [
       "<div>\n",
       "<style scoped>\n",
       "    .dataframe tbody tr th:only-of-type {\n",
       "        vertical-align: middle;\n",
       "    }\n",
       "\n",
       "    .dataframe tbody tr th {\n",
       "        vertical-align: top;\n",
       "    }\n",
       "\n",
       "    .dataframe thead th {\n",
       "        text-align: right;\n",
       "    }\n",
       "</style>\n",
       "<table border=\"1\" class=\"dataframe\">\n",
       "  <thead>\n",
       "    <tr style=\"text-align: right;\">\n",
       "      <th></th>\n",
       "      <th>id</th>\n",
       "      <th>target</th>\n",
       "    </tr>\n",
       "  </thead>\n",
       "  <tbody>\n",
       "    <tr>\n",
       "      <th>0</th>\n",
       "      <td>5</td>\n",
       "      <td>8.508183</td>\n",
       "    </tr>\n",
       "    <tr>\n",
       "      <th>1</th>\n",
       "      <td>6</td>\n",
       "      <td>13.826033</td>\n",
       "    </tr>\n",
       "    <tr>\n",
       "      <th>2</th>\n",
       "      <td>8</td>\n",
       "      <td>1.334588</td>\n",
       "    </tr>\n",
       "  </tbody>\n",
       "</table>\n",
       "</div>"
      ],
      "text/plain": [
       "   id     target\n",
       "0   5   8.508183\n",
       "1   6  13.826033\n",
       "2   8   1.334588"
      ]
     },
     "execution_count": 12,
     "metadata": {},
     "output_type": "execute_result"
    }
   ],
   "source": [
    "print('Saving submission file')\n",
    "submission = pd.DataFrame.from_dict({\n",
    "    'id': test_id,\n",
    "    'target': bagged_test_preds,\n",
    "})\n",
    "submission.to_csv('submission.csv', index=False)\n",
    "submission.head(3)"
   ]
  },
  {
   "cell_type": "code",
   "execution_count": 13,
   "metadata": {
    "execution": {
     "iopub.execute_input": "2021-03-08T03:59:09.073476Z",
     "iopub.status.busy": "2021-03-08T03:59:09.072744Z",
     "iopub.status.idle": "2021-03-08T03:59:10.168298Z",
     "shell.execute_reply": "2021-03-08T03:59:10.168960Z"
    },
    "papermill": {
     "duration": 1.142524,
     "end_time": "2021-03-08T03:59:10.169192",
     "exception": false,
     "start_time": "2021-03-08T03:59:09.026668",
     "status": "completed"
    },
    "tags": []
   },
   "outputs": [
    {
     "data": {
      "text/html": [
       "<div>\n",
       "<style scoped>\n",
       "    .dataframe tbody tr th:only-of-type {\n",
       "        vertical-align: middle;\n",
       "    }\n",
       "\n",
       "    .dataframe tbody tr th {\n",
       "        vertical-align: top;\n",
       "    }\n",
       "\n",
       "    .dataframe thead th {\n",
       "        text-align: right;\n",
       "    }\n",
       "</style>\n",
       "<table border=\"1\" class=\"dataframe\">\n",
       "  <thead>\n",
       "    <tr style=\"text-align: right;\">\n",
       "      <th></th>\n",
       "      <th>id</th>\n",
       "      <th>target</th>\n",
       "    </tr>\n",
       "  </thead>\n",
       "  <tbody>\n",
       "    <tr>\n",
       "      <th>0</th>\n",
       "      <td>5</td>\n",
       "      <td>0.469261</td>\n",
       "    </tr>\n",
       "    <tr>\n",
       "      <th>1</th>\n",
       "      <td>6</td>\n",
       "      <td>0.766515</td>\n",
       "    </tr>\n",
       "    <tr>\n",
       "      <th>2</th>\n",
       "      <td>8</td>\n",
       "      <td>0.062625</td>\n",
       "    </tr>\n",
       "  </tbody>\n",
       "</table>\n",
       "</div>"
      ],
      "text/plain": [
       "   id    target\n",
       "0   5  0.469261\n",
       "1   6  0.766515\n",
       "2   8  0.062625"
      ]
     },
     "execution_count": 13,
     "metadata": {},
     "output_type": "execute_result"
    }
   ],
   "source": [
    "top_public = pd.read_csv('/kaggle/input/tps-mar-2021-stacked-starter/submission.csv')\n",
    "submission['target'] = (rankdata(submission.target) * 0.275 + rankdata(top_public.target) * 0.725)/len(submission)\n",
    "submission.to_csv('blend.csv', index=False)\n",
    "submission.head(3)"
   ]
  },
  {
   "cell_type": "code",
   "execution_count": null,
   "metadata": {
    "papermill": {
     "duration": 0.025235,
     "end_time": "2021-03-08T03:59:10.224370",
     "exception": false,
     "start_time": "2021-03-08T03:59:10.199135",
     "status": "completed"
    },
    "tags": []
   },
   "outputs": [],
   "source": []
  }
 ],
 "metadata": {
  "kernelspec": {
   "display_name": "Python 3",
   "language": "python",
   "name": "python3"
  },
  "language_info": {
   "codemirror_mode": {
    "name": "ipython",
    "version": 3
   },
   "file_extension": ".py",
   "mimetype": "text/x-python",
   "name": "python",
   "nbconvert_exporter": "python",
   "pygments_lexer": "ipython3",
   "version": "3.7.9"
  },
  "papermill": {
   "default_parameters": {},
   "duration": 6445.93215,
   "end_time": "2021-03-08T03:59:13.761542",
   "environment_variables": {},
   "exception": null,
   "input_path": "__notebook__.ipynb",
   "output_path": "__notebook__.ipynb",
   "parameters": {},
   "start_time": "2021-03-08T02:11:47.829392",
   "version": "2.2.2"
  }
 },
 "nbformat": 4,
 "nbformat_minor": 4
}
